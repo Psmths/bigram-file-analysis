{
   "cells":[
      {
         "cell_type":"code",
         "execution_count":null,
         "metadata":{
            
         },
         "outputs":[
            
         ],
         "source":[
            "import tensorflow as tf\n",
            "from tensorflow.keras.models import Sequential\n",
            "from tensorflow.keras import layers\n",
            "from tensorflow.keras.layers import Dense, Dropout, Activation, Flatten, Conv2D, MaxPooling2D, Reshape\n",
            "from keras.models import load_model\n",
            "import matplotlib.pyplot as plt\n",
            "import numpy as np\n",
            "from sklearn.model_selection import train_test_split\n",
            "from sklearn.preprocessing import normalize\n",
            "from sys import getsizeof\n",
            "import random"
         ]
      },
      {
         "cell_type":"code",
         "execution_count":null,
         "metadata":{
            
         },
         "outputs":[
            
         ],
         "source":[
            "dataset = np.load(\"./dataset_win.npy\",allow_pickle=True)\n",
            "print(dataset.shape)"
         ]
      },
      {
         "cell_type":"code",
         "execution_count":null,
         "metadata":{
            
         },
         "outputs":[
            
         ],
         "source":[
            "#Slice dataset into labels and cases\n",
            "x,y = dataset.T"
         ]
      },
      {
         "cell_type":"code",
         "execution_count":null,
         "metadata":{
            
         },
         "outputs":[
            
         ],
         "source":[
            "#Split into train and test datasets\n",
            "xtrain,xtest,ytrain,ytest = train_test_split(x,y,test_size=0.33)\n",
            "\n",
            "\n",
            "xtrain_norm = []\n",
            "xtest_norm = []\n",
            "\n",
            "for i in xtrain:\n",
            "    i = normalize(i, axis=1, norm='l1')\n",
            "    xtrain_norm.append(i)\n",
            "    \n",
            "for i in xtest:\n",
            "    i = normalize(i, axis=1, norm='l1')\n",
            "    xtest_norm.append(i)\n",
            "    \n",
            "xtrain_norm = np.array(list(x for x in xtrain_norm))\n",
            "ytrain = np.array(list(x for x in ytrain))\n",
            "xtest_norm = np.array(list(x for x in xtest_norm))\n",
            "ytest = np.array(list(x for x in ytest))\n",
            "    \n",
            "print(\"Size of training dataset: \" + str(xtrain_norm.shape))\n",
            "print(\"Size of testing dataset:  \" + str(xtest_norm.shape))\n",
            "print(\"Size of unit class:       \" + str(xtest[0].shape))\n",
            "print(\"Labels in dataset:        \" + str(np.unique(y)))\n",
            "\n",
            "print(ytrain)\n",
            "print(ytest)"
         ]
      },
      {
         "cell_type":"code",
         "execution_count":null,
         "metadata":{
            
         },
         "outputs":[
            
         ],
         "source":[
            "model = Sequential()\n",
            "model.add(Reshape((256, 256, 1)))\n",
            "model.add(Conv2D(64, kernel_size=(3,3), input_shape=(256,256,1), name=\"conv\"))\n",
            "model.add(MaxPooling2D(pool_size=(3,3)))\n",
            "model.add(Activation('relu'))\n",
            "model.add(layers.Flatten())\n",
            "model.add(layers.Dense(128, activation=\"relu\", name=\"layer1\"))\n",
            "model.add(layers.Dense(9, activation=\"softmax\", name=\"layer2\"))"
         ]
      },
      {
         "cell_type":"code",
         "execution_count":null,
         "metadata":{
            
         },
         "outputs":[
            
         ],
         "source":[
            "model.compile(loss=\"sparse_categorical_crossentropy\",optimizer=\"rmsprop\",metrics=[\"accuracy\"])"
         ]
      },
      {
         "cell_type":"code",
         "execution_count":null,
         "metadata":{
            
         },
         "outputs":[
            
         ],
         "source":[
            "history = model.fit(xtrain_norm, ytrain, batch_size=6, epochs=10)"
         ]
      },
      {
         "cell_type":"code",
         "execution_count":null,
         "metadata":{
            
         },
         "outputs":[
            
         ],
         "source":[
            "print(model.summary())"
         ]
      },
      {
         "cell_type":"code",
         "execution_count":null,
         "metadata":{
            
         },
         "outputs":[
            
         ],
         "source":[
            "model.evaluate(xtest_norm, ytest)"
         ]
      },
      {
         "cell_type":"code",
         "execution_count":null,
         "metadata":{
            
         },
         "outputs":[
            
         ],
         "source":[
            "def get_str(n):\n",
            "    if n == 0: return \"GIF\"\n",
            "    if n == 1: return \"PE64\"\n",
            "    if n == 2: return \"MP3\"\n",
            "    if n == 3: return \"FLAC\"\n",
            "    if n == 4: return \"DLL\"\n",
            "    if n == 5: return \"HTML\"\n",
            "    if n == 6: return \"PDF\"\n",
            "    if n == 7: return \"PNG\"\n",
            "    if n == 8: return \"XML\"\n"
         ]
      },
      {
         "cell_type":"code",
         "execution_count":null,
         "metadata":{
            
         },
         "outputs":[
            
         ],
         "source":[
            "for x in range(len(ytest)):\n",
            "    p =  model.predict(xtest_norm[x].reshape(1, 256, 256, 1))\n",
            "    if not ytest[x] == p.argmax(): \n",
            "        print(str(x) + \"\\twas: \" + get_str(ytest[x]) + \"\\tpredicted: \" + get_str(p.argmax()))"
         ]
      },
      {
         "cell_type":"code",
         "execution_count":null,
         "metadata":{
            
         },
         "outputs":[
            
         ],
         "source":[
            "image_index = 25\n",
            "plt.figure(figsize = (10,10))\n",
            "plt.imshow(xtest_norm[image_index],cmap='hot',vmax=0.02)\n",
            "pred = model.predict(xtest_norm[image_index].reshape(1, 256, 256, 1))\n",
            "print(\"Prediction: \" + get_str(pred.argmax()))\n",
            "print(\"Actual:     \" + get_str(ytest[image_index]))\n",
            "print(\"Confidence Levels: \")\n",
            "categories = ['gif','pe64','mp3','flac','dll','html','pdf','png','xml']\n",
            "p =  model.predict(xtest_norm[image_index].reshape(1, 256, 256, 1))\n",
            "\n",
            "for i in range(len(categories)):\n",
            "    np.set_printoptions(precision=4)\n",
            "    print(categories[i] + \"\\t = \" + str('{:.20f}'.format(p[0][i])))"
         ]
      }
   ],
   "metadata":{
      "kernelspec":{
         "display_name":"Python 3",
         "language":"python",
         "name":"python3"
      },
      "language_info":{
         "codemirror_mode":{
            "name":"ipython",
            "version":3
         },
         "file_extension":".py",
         "mimetype":"text/x-python",
         "name":"python",
         "nbconvert_exporter":"python",
         "pygments_lexer":"ipython3",
         "version":"3.8.2"
      }
   },
   "nbformat":4,
   "nbformat_minor":4
}
